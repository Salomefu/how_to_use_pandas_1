{
 "cells": [
  {
   "cell_type": "markdown",
   "metadata": {},
   "source": [
    "# chapter 1 introducing pandas objects\n",
    "有三种基本的数据结构：Series,DataFrame,Index"
   ]
  },
  {
   "cell_type": "markdown",
   "metadata": {},
   "source": [
    "## Series"
   ]
  },
  {
   "cell_type": "code",
   "execution_count": 2,
   "metadata": {},
   "outputs": [],
   "source": [
    "import pandas as pd\n",
    "import numpy as np"
   ]
  },
  {
   "cell_type": "code",
   "execution_count": 5,
   "metadata": {},
   "outputs": [
    {
     "data": {
      "text/plain": [
       "array([0.25, 0.5 , 0.75, 2.  ])"
      ]
     },
     "execution_count": 5,
     "metadata": {},
     "output_type": "execute_result"
    }
   ],
   "source": [
    "data = pd.Series([0.25,0.5,0.75,2.0])\n",
    "#we can access with the values and index attributes\n",
    "#numpy array\n",
    "data.values\n",
    "#pd.Index\n",
    "data.index\n",
    "#data[1]\n",
    "#data[1:3]"
   ]
  },
  {
   "cell_type": "code",
   "execution_count": 8,
   "metadata": {},
   "outputs": [],
   "source": [
    "#比numpy array更灵活，它的index可以是string\n",
    "data = pd.Series([0.25,0.5,0.75,1.0],index=['a','b','c','d'])\n",
    "#索引可以是不连续的\n",
    "data = pd.Series([0.25,0.5,0.75,1.0],index=[2，3，5，7])"
   ]
  },
  {
   "cell_type": "code",
   "execution_count": 12,
   "metadata": {},
   "outputs": [
    {
     "data": {
      "text/plain": [
       "California    38332521\n",
       "Florida       19552860\n",
       "Illinois      12882135\n",
       "New York      19651127\n",
       "Texas         26448193\n",
       "dtype: int64"
      ]
     },
     "execution_count": 12,
     "metadata": {},
     "output_type": "execute_result"
    }
   ],
   "source": [
    "#Series as specialized dictionary\n",
    "#也可以把它当成字典，不过更灵活有效\n",
    "population_dict = {'California': 38332521,\n",
    "                               'Texas': 26448193,\n",
    "                               'New York': 19651127,\n",
    "                               'Florida': 19552860,\n",
    "                               'Illinois': 12882135}\n",
    "population = pd.Series(population_dict)\n",
    "#Unlike a dictionary, though, the Series also supports array-style operations such as slicing\n",
    "population['California':'Illinois']\n",
    "#根据字典的key排序\n",
    "population"
   ]
  },
  {
   "cell_type": "markdown",
   "metadata": {},
   "source": [
    "## DataFrame"
   ]
  },
  {
   "cell_type": "code",
   "execution_count": 16,
   "metadata": {},
   "outputs": [
    {
     "data": {
      "text/plain": [
       "(Index(['California', 'Florida', 'Illinois', 'New York', 'Texas'], dtype='object'),\n",
       " Index(['area', 'population'], dtype='object'))"
      ]
     },
     "execution_count": 16,
     "metadata": {},
     "output_type": "execute_result"
    }
   ],
   "source": [
    "#DataFrame as a generalized NumPy array\n",
    "area_dict = {'California': 423967, 'Texas': 695662, 'New York': 141297,\n",
    "                 'Florida': 170312, 'Illinois': 149995}\n",
    "area = pd.Series(area_dict)\n",
    "states = pd.DataFrame({'population':population,'area':area})\n",
    "#DataFrame has an index(common with Series) and columns(values in Series) attributes\n",
    "states.index,states.columns\n",
    "#DataFrame as specialized dictionary"
   ]
  },
  {
   "cell_type": "code",
   "execution_count": 21,
   "metadata": {},
   "outputs": [
    {
     "data": {
      "text/html": [
       "<div>\n",
       "<style scoped>\n",
       "    .dataframe tbody tr th:only-of-type {\n",
       "        vertical-align: middle;\n",
       "    }\n",
       "\n",
       "    .dataframe tbody tr th {\n",
       "        vertical-align: top;\n",
       "    }\n",
       "\n",
       "    .dataframe thead th {\n",
       "        text-align: right;\n",
       "    }\n",
       "</style>\n",
       "<table border=\"1\" class=\"dataframe\">\n",
       "  <thead>\n",
       "    <tr style=\"text-align: right;\">\n",
       "      <th></th>\n",
       "      <th>foo</th>\n",
       "      <th>bar</th>\n",
       "    </tr>\n",
       "  </thead>\n",
       "  <tbody>\n",
       "    <tr>\n",
       "      <th>a</th>\n",
       "      <td>0.431035</td>\n",
       "      <td>0.685901</td>\n",
       "    </tr>\n",
       "    <tr>\n",
       "      <th>b</th>\n",
       "      <td>0.991050</td>\n",
       "      <td>0.613099</td>\n",
       "    </tr>\n",
       "    <tr>\n",
       "      <th>c</th>\n",
       "      <td>0.058607</td>\n",
       "      <td>0.223692</td>\n",
       "    </tr>\n",
       "  </tbody>\n",
       "</table>\n",
       "</div>"
      ],
      "text/plain": [
       "        foo       bar\n",
       "a  0.431035  0.685901\n",
       "b  0.991050  0.613099\n",
       "c  0.058607  0.223692"
      ]
     },
     "execution_count": 21,
     "metadata": {},
     "output_type": "execute_result"
    }
   ],
   "source": [
    "#construct dataframe\n",
    "#1. From a single Series object\n",
    "pd.DataFrame(population,columns=['population'])\n",
    "\n",
    "#2. From a list of dicts\n",
    "data = [{'a':i,'b':i*2} for i in range(3)]#字典推导\n",
    "pd.DataFrame(data)\n",
    "#不需要键值一样\n",
    "pd.DataFrame([{'a': 1, 'b': 2}, {'b': 3, 'c': 4}])\n",
    "\n",
    "#3. From a dictionary of Series objects \n",
    "#just like before\n",
    "\n",
    "#4. From a two-dimensional NumPy array\n",
    "pd.DataFrame(np.random.rand(3, 2),\n",
    "                         columns=['foo', 'bar'],\n",
    "                         index=['a', 'b', 'c'])"
   ]
  },
  {
   "cell_type": "markdown",
   "metadata": {},
   "source": [
    "## Index"
   ]
  },
  {
   "cell_type": "code",
   "execution_count": 23,
   "metadata": {},
   "outputs": [
    {
     "data": {
      "text/plain": [
       "Int64Index([2, 3, 5, 6, 7], dtype='int64')"
      ]
     },
     "execution_count": 23,
     "metadata": {},
     "output_type": "execute_result"
    }
   ],
   "source": [
    "ind = pd.Index([2,3,5,6,7])\n",
    "ind"
   ]
  },
  {
   "cell_type": "code",
   "execution_count": 26,
   "metadata": {},
   "outputs": [
    {
     "data": {
      "text/plain": [
       "(Int64Index([1, 5, 7, 9], dtype='int64'),\n",
       " Int64Index([1, 2, 3, 5, 7, 9], dtype='int64'),\n",
       " Int64Index([2, 3], dtype='int64'))"
      ]
     },
     "execution_count": 26,
     "metadata": {},
     "output_type": "execute_result"
    }
   ],
   "source": [
    "#Index as immutable array\n",
    "ind[::2]\n",
    "#ind[1]=0 #will be wrong,cause it's immutable\n",
    "#Index as ordered set，pandas会涉及很多数据的交集操作，这会依赖很多集合(set)算法，Index也支持set操作\n",
    "indA = pd.Index([1, 3, 5, 7, 9])\n",
    "indB = pd.Index([1, 2, 5, 7, 9])\n",
    "indA & indB,indA | indB,indA ^ indB"
   ]
  },
  {
   "cell_type": "markdown",
   "metadata": {},
   "source": [
    "# Data Indexing and Selection"
   ]
  },
  {
   "cell_type": "code",
   "execution_count": null,
   "metadata": {},
   "outputs": [],
   "source": [
    "#indexing(arr[2,1]),slicing(arr[:,1:5]),masking(arr[arr>0]),fancy indexing(arr[0,[1,5]])，conbinitions thereof(arr[：，[1,5])\n"
   ]
  },
  {
   "cell_type": "code",
   "execution_count": 29,
   "metadata": {},
   "outputs": [
    {
     "data": {
      "text/plain": [
       "(0.5,\n",
       " True,\n",
       " Index(['a', 'b', 'c', 'd'], dtype='object'),\n",
       " [('a', 0.25), ('b', 0.5), ('c', 0.75), ('d', 1.0)])"
      ]
     },
     "execution_count": 29,
     "metadata": {},
     "output_type": "execute_result"
    }
   ],
   "source": [
    "#关于Series 记住它表现的像numpy array 和 dictionary,对这些的操作能运用到Series\n",
    "#dictionary like\n",
    "data = pd.Series([0.25, 0.5, 0.75, 1.0],index=['a', 'b', 'c', 'd'])\n",
    "data['b'],'a' in data,data.keys(),list(data.items())\n",
    "data['e'] = 1.25\n",
    "\n",
    "#array like\n",
    "#slicing by implicit index"
   ]
  },
  {
   "cell_type": "code",
   "execution_count": 30,
   "metadata": {},
   "outputs": [],
   "source": []
  },
  {
   "cell_type": "code",
   "execution_count": null,
   "metadata": {},
   "outputs": [],
   "source": []
  }
 ],
 "metadata": {
  "kernelspec": {
   "display_name": "Python 3",
   "language": "python",
   "name": "python3"
  },
  "language_info": {
   "codemirror_mode": {
    "name": "ipython",
    "version": 3
   },
   "file_extension": ".py",
   "mimetype": "text/x-python",
   "name": "python",
   "nbconvert_exporter": "python",
   "pygments_lexer": "ipython3",
   "version": "3.6.4"
  }
 },
 "nbformat": 4,
 "nbformat_minor": 2
}
